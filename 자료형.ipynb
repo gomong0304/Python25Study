{
  "cells": [
    {
      "cell_type": "markdown",
      "metadata": {
        "id": "view-in-github",
        "colab_type": "text"
      },
      "source": [
        "<a href=\"https://colab.research.google.com/github/gomong0304/Python25Study/blob/master/%EC%9E%90%EB%A3%8C%ED%98%95.ipynb\" target=\"_parent\"><img src=\"https://colab.research.google.com/assets/colab-badge.svg\" alt=\"Open In Colab\"/></a>"
      ]
    },
    {
      "cell_type": "code",
      "source": [
        "a=0o177\n",
        "print(a)"
      ],
      "metadata": {
        "id": "re19RAtK-8sU",
        "outputId": "1dd2878e-b2c9-443e-e8d8-fdcc79787621",
        "colab": {
          "base_uri": "https://localhost:8080/"
        }
      },
      "execution_count": null,
      "outputs": [
        {
          "output_type": "stream",
          "name": "stdout",
          "text": [
            "127\n"
          ]
        }
      ]
    },
    {
      "cell_type": "code",
      "source": [
        "a=0x8ff\n",
        "b=0xABC\n",
        "print(b)"
      ],
      "metadata": {
        "id": "W_RUUHjj-8d7",
        "outputId": "38b3740b-2f0b-4690-9354-c1c0c0ff81a8",
        "colab": {
          "base_uri": "https://localhost:8080/"
        }
      },
      "execution_count": null,
      "outputs": [
        {
          "output_type": "stream",
          "name": "stdout",
          "text": [
            "2748\n"
          ]
        }
      ]
    },
    {
      "cell_type": "code",
      "source": [
        "a=3\n",
        "b=4\n",
        "a+b\n",
        "a-b\n",
        "a*b\n",
        "a/b"
      ],
      "metadata": {
        "id": "pmioFd9V_jhC",
        "outputId": "27cd048f-600e-45cb-e470-a1e566534a60",
        "colab": {
          "base_uri": "https://localhost:8080/"
        }
      },
      "execution_count": null,
      "outputs": [
        {
          "output_type": "execute_result",
          "data": {
            "text/plain": [
              "12"
            ]
          },
          "metadata": {},
          "execution_count": 6
        }
      ]
    },
    {
      "cell_type": "code",
      "source": [
        "a=3\n",
        "b=4\n",
        "a**b"
      ],
      "metadata": {
        "id": "kYgS2tPR_zug",
        "outputId": "2fb0b4bc-5d6c-4377-f665-7f1ae2920853",
        "colab": {
          "base_uri": "https://localhost:8080/"
        }
      },
      "execution_count": null,
      "outputs": [
        {
          "output_type": "execute_result",
          "data": {
            "text/plain": [
              "81"
            ]
          },
          "metadata": {},
          "execution_count": 7
        }
      ]
    },
    {
      "cell_type": "code",
      "source": [
        "7%3"
      ],
      "metadata": {
        "id": "G-J-Afoj_3zA",
        "outputId": "6f096e41-7b07-4104-b7a1-2e05f4b586ce",
        "colab": {
          "base_uri": "https://localhost:8080/"
        }
      },
      "execution_count": null,
      "outputs": [
        {
          "output_type": "execute_result",
          "data": {
            "text/plain": [
              "1"
            ]
          },
          "metadata": {},
          "execution_count": 8
        }
      ]
    },
    {
      "cell_type": "code",
      "source": [
        "a=1\n",
        "a=a+1\n",
        "print(a)"
      ],
      "metadata": {
        "id": "leUmGC1V_906",
        "outputId": "63b53e9c-8b83-434e-aca3-1012fe053a50",
        "colab": {
          "base_uri": "https://localhost:8080/"
        }
      },
      "execution_count": null,
      "outputs": [
        {
          "output_type": "stream",
          "name": "stdout",
          "text": [
            "2\n"
          ]
        }
      ]
    },
    {
      "cell_type": "code",
      "source": [
        "a=1\n",
        "a-=1\n",
        "print(a)\n",
        "# a = a - 1 과 같음"
      ],
      "metadata": {
        "id": "9SD6FRk0_-Iw",
        "outputId": "54cd09b2-6438-44c6-9537-d3530c248819",
        "colab": {
          "base_uri": "https://localhost:8080/"
        }
      },
      "execution_count": null,
      "outputs": [
        {
          "output_type": "stream",
          "name": "stdout",
          "text": [
            "0\n"
          ]
        }
      ]
    },
    {
      "cell_type": "code",
      "source": [
        "# 따옴표로 둘러싸여 있으면 모두 문자열\n",
        "\"Hello World\"\n",
        "'Python is fun'\n",
        "\"\"\"Life is too short, You need python\"\"\"\n",
        "'''Life is too short, You need python'''\n",
        "food = \"Python's favorite food is perl\"\n",
        "food"
      ],
      "metadata": {
        "id": "gVjre3Lx_-LV",
        "outputId": "7d28418a-918c-4175-e19e-a57d8a32e7b8",
        "colab": {
          "base_uri": "https://localhost:8080/",
          "height": 35
        }
      },
      "execution_count": null,
      "outputs": [
        {
          "output_type": "execute_result",
          "data": {
            "text/plain": [
              "\"Python's favorite food is perl\""
            ],
            "application/vnd.google.colaboratory.intrinsic+json": {
              "type": "string"
            }
          },
          "metadata": {},
          "execution_count": 13
        }
      ]
    },
    {
      "cell_type": "code",
      "source": [
        "say = '\"Python is very easy.\" he says'\n",
        "say"
      ],
      "metadata": {
        "id": "DJrBnISxCQZj",
        "outputId": "7fc82587-6138-4966-d9cc-29e28130c9d7",
        "colab": {
          "base_uri": "https://localhost:8080/",
          "height": 35
        }
      },
      "execution_count": null,
      "outputs": [
        {
          "output_type": "execute_result",
          "data": {
            "text/plain": [
              "'\"Python is very easy.\" he says'"
            ],
            "application/vnd.google.colaboratory.intrinsic+json": {
              "type": "string"
            }
          },
          "metadata": {},
          "execution_count": 14
        }
      ]
    },
    {
      "cell_type": "code",
      "source": [
        "food = 'Python\\'s favorite food is perl'\n",
        "say = \"\\\"Python is very easy.\\\" he says\"\n",
        "print(food)\n",
        "print(say)"
      ],
      "metadata": {
        "id": "hLvxa8BV_-Oj",
        "outputId": "31aa05f3-3020-4d9a-e510-1fb690847d2d",
        "colab": {
          "base_uri": "https://localhost:8080/"
        }
      },
      "execution_count": null,
      "outputs": [
        {
          "output_type": "stream",
          "name": "stdout",
          "text": [
            "Python's favorite food is perl\n",
            "\"Python is very easy.\" he says\n"
          ]
        }
      ]
    },
    {
      "cell_type": "code",
      "source": [
        "multiline = \"Life is too short\\nYou need python\"\n",
        "multiline"
      ],
      "metadata": {
        "id": "8OPljjHLEFS5",
        "outputId": "4c3bc75a-ad94-4fe9-c19f-5c0928488e77",
        "colab": {
          "base_uri": "https://localhost:8080/",
          "height": 35
        }
      },
      "execution_count": null,
      "outputs": [
        {
          "output_type": "execute_result",
          "data": {
            "text/plain": [
              "'Life is too short\\nYou need python'"
            ],
            "application/vnd.google.colaboratory.intrinsic+json": {
              "type": "string"
            }
          },
          "metadata": {},
          "execution_count": 26
        }
      ]
    },
    {
      "cell_type": "code",
      "source": [
        "multiline = \"Life is too short\\nYou need python\"\n",
        "print(multiline)"
      ],
      "metadata": {
        "id": "Fg_YMdX3_-RW",
        "outputId": "e893d76f-14b7-47c6-dcfd-bca6f3719c55",
        "colab": {
          "base_uri": "https://localhost:8080/"
        }
      },
      "execution_count": null,
      "outputs": [
        {
          "output_type": "stream",
          "name": "stdout",
          "text": [
            "Life is too short\n",
            "You need python\n"
          ]
        }
      ]
    },
    {
      "cell_type": "code",
      "source": [
        "# 셀에서 변수만 적으면: Jupyter/REPL이 그 값의 공식 표현(repr) 을 출력합니다.\n",
        "# 그래서 \\n 같은 이스케이프가 그대로 보임 → 'Life is too short\\nYou need python'.\n",
        "# print()를 쓰면: 문자열의 내용(str) 을 표준출력으로 찍습니다. \\n이 실제 줄바꿈으로 해석"
      ],
      "metadata": {
        "id": "1M4m-cjkEdLq"
      },
      "execution_count": null,
      "outputs": []
    },
    {
      "cell_type": "code",
      "source": [
        "multiline='''\n",
        "  Life is too short\n",
        "  You need python\n",
        "  '''\n",
        "print(multiline)"
      ],
      "metadata": {
        "id": "j2Mh_vTk_-Ty",
        "outputId": "1f0b8844-8fce-422b-aa00-b1430c95f0f1",
        "colab": {
          "base_uri": "https://localhost:8080/"
        }
      },
      "execution_count": null,
      "outputs": [
        {
          "output_type": "stream",
          "name": "stdout",
          "text": [
            "\n",
            "  Life is too short\n",
            "  You need python\n",
            "  \n"
          ]
        }
      ]
    },
    {
      "cell_type": "code",
      "source": [
        "# 문자열 연산\n",
        "head = \"Python\"\n",
        "tail = \" is fun!\"\n",
        "head + tail"
      ],
      "metadata": {
        "id": "E1iU8PYK_-V2",
        "outputId": "c320973c-4792-4ee8-bdd6-cae14cbd26c0",
        "colab": {
          "base_uri": "https://localhost:8080/",
          "height": 35
        }
      },
      "execution_count": null,
      "outputs": [
        {
          "output_type": "execute_result",
          "data": {
            "text/plain": [
              "'Python is fun!'"
            ],
            "application/vnd.google.colaboratory.intrinsic+json": {
              "type": "string"
            }
          },
          "metadata": {},
          "execution_count": 29
        }
      ]
    },
    {
      "cell_type": "code",
      "source": [
        "# 문자열 곱하기\n",
        "a=\"Python\"\n",
        "a*2"
      ],
      "metadata": {
        "id": "cAQiT2MuE1eT",
        "outputId": "9c282269-fba1-4203-992f-ffb618f7bbb9",
        "colab": {
          "base_uri": "https://localhost:8080/",
          "height": 35
        }
      },
      "execution_count": null,
      "outputs": [
        {
          "output_type": "execute_result",
          "data": {
            "text/plain": [
              "'PythonPython'"
            ],
            "application/vnd.google.colaboratory.intrinsic+json": {
              "type": "string"
            }
          },
          "metadata": {},
          "execution_count": 30
        }
      ]
    },
    {
      "cell_type": "code",
      "source": [
        "# 문자열 곱하기 응용하기\n",
        "# multistring.py\n",
        "print(\"=\"*50)\n",
        "print(\"My Program\")\n",
        "print(\"=\"*50)"
      ],
      "metadata": {
        "id": "0GLMuM8QE1gl",
        "outputId": "5b806a88-46c6-4c76-aef9-82cc78c48868",
        "colab": {
          "base_uri": "https://localhost:8080/"
        }
      },
      "execution_count": null,
      "outputs": [
        {
          "output_type": "stream",
          "name": "stdout",
          "text": [
            "==================================================\n",
            "My Program\n",
            "==================================================\n"
          ]
        }
      ]
    },
    {
      "cell_type": "code",
      "source": [
        "# 문자열 길이 구하기\n",
        "a=\"Life is too short\"\n",
        "len(a)"
      ],
      "metadata": {
        "id": "a80xD1rTE1jB",
        "outputId": "f7724d37-d643-4cb0-d176-1bd914503902",
        "colab": {
          "base_uri": "https://localhost:8080/"
        }
      },
      "execution_count": null,
      "outputs": [
        {
          "output_type": "execute_result",
          "data": {
            "text/plain": [
              "17"
            ]
          },
          "metadata": {},
          "execution_count": 32
        }
      ]
    },
    {
      "cell_type": "code",
      "source": [
        "# 문자열 인덱싱과 슬라이싱\n",
        "# 인덱싱(indexing)이란 무엇인가를 '가리킨다', 슬라이싱(slicing)은 무엇인가를 '잘라 낸다'라는 의미\n",
        "a=\"Life is too short, You need Python\"\n",
        "print(a[5])\n",
        "# 파이썬은 0부터 숫자를 센다\n",
        "print(a[0])\n",
        "# 문자열을 뒤에서부터 읽기 위해 -(빼기) 기호를 붙인 것\n",
        "print(a[-5])"
      ],
      "metadata": {
        "id": "EbsA8YztE1lX",
        "outputId": "393a2984-54c4-4873-d9a9-e40e3c630ced",
        "colab": {
          "base_uri": "https://localhost:8080/"
        }
      },
      "execution_count": null,
      "outputs": [
        {
          "output_type": "stream",
          "name": "stdout",
          "text": [
            "y\n"
          ]
        }
      ]
    },
    {
      "cell_type": "code",
      "source": [
        "# 문자열 스라이싱\n",
        "a = \"Life is too short, You need Python\"\n",
        "b = a[0] + a[1] + a[2] + a[3]\n",
        "b"
      ],
      "metadata": {
        "id": "E5Kkj5pGE1nn",
        "outputId": "0fead224-7cb8-470d-ff21-f35abb67f084",
        "colab": {
          "base_uri": "https://localhost:8080/",
          "height": 35
        }
      },
      "execution_count": null,
      "outputs": [
        {
          "output_type": "execute_result",
          "data": {
            "text/plain": [
              "'Life'"
            ],
            "application/vnd.google.colaboratory.intrinsic+json": {
              "type": "string"
            }
          },
          "metadata": {},
          "execution_count": 38
        }
      ]
    },
    {
      "cell_type": "code",
      "source": [
        "a = \"Life is too short, You need Python\"\n",
        "a[0:4]\n",
        "# 0 <= a < 4"
      ],
      "metadata": {
        "id": "5u5dcqTIE1p8",
        "outputId": "42310e17-328e-4840-ab23-58705a22a63b",
        "colab": {
          "base_uri": "https://localhost:8080/",
          "height": 35
        }
      },
      "execution_count": null,
      "outputs": [
        {
          "output_type": "execute_result",
          "data": {
            "text/plain": [
              "'Life'"
            ],
            "application/vnd.google.colaboratory.intrinsic+json": {
              "type": "string"
            }
          },
          "metadata": {},
          "execution_count": 39
        }
      ]
    },
    {
      "cell_type": "code",
      "source": [
        "a[0:5]"
      ],
      "metadata": {
        "id": "XOHcBp2FE1se",
        "outputId": "8935041a-be90-4277-e86f-92285240b347",
        "colab": {
          "base_uri": "https://localhost:8080/",
          "height": 35
        }
      },
      "execution_count": null,
      "outputs": [
        {
          "output_type": "execute_result",
          "data": {
            "text/plain": [
              "'Life '"
            ],
            "application/vnd.google.colaboratory.intrinsic+json": {
              "type": "string"
            }
          },
          "metadata": {},
          "execution_count": 40
        }
      ]
    },
    {
      "cell_type": "code",
      "source": [
        "a[0:2]"
      ],
      "metadata": {
        "id": "K4qtA7gCLZcB",
        "outputId": "6f9decd0-b8f8-42d8-feb1-38fca7e2fb87",
        "colab": {
          "base_uri": "https://localhost:8080/",
          "height": 35
        }
      },
      "execution_count": null,
      "outputs": [
        {
          "output_type": "execute_result",
          "data": {
            "text/plain": [
              "'Li'"
            ],
            "application/vnd.google.colaboratory.intrinsic+json": {
              "type": "string"
            }
          },
          "metadata": {},
          "execution_count": 41
        }
      ]
    },
    {
      "cell_type": "code",
      "source": [
        "a[5:7]"
      ],
      "metadata": {
        "id": "NmkJvbR2LZej",
        "outputId": "b3729f3f-ca68-42ae-85a0-fa10fe351b03",
        "colab": {
          "base_uri": "https://localhost:8080/",
          "height": 35
        }
      },
      "execution_count": null,
      "outputs": [
        {
          "output_type": "execute_result",
          "data": {
            "text/plain": [
              "'is'"
            ],
            "application/vnd.google.colaboratory.intrinsic+json": {
              "type": "string"
            }
          },
          "metadata": {},
          "execution_count": 42
        }
      ]
    },
    {
      "cell_type": "code",
      "source": [
        "a[12:17]"
      ],
      "metadata": {
        "id": "2ZbEoCh3LZg_",
        "outputId": "1e4aa589-8b00-4e7c-8603-4a4e3afbd37f",
        "colab": {
          "base_uri": "https://localhost:8080/",
          "height": 35
        }
      },
      "execution_count": null,
      "outputs": [
        {
          "output_type": "execute_result",
          "data": {
            "text/plain": [
              "'short'"
            ],
            "application/vnd.google.colaboratory.intrinsic+json": {
              "type": "string"
            }
          },
          "metadata": {},
          "execution_count": 43
        }
      ]
    },
    {
      "cell_type": "code",
      "source": [
        "a[19:]"
      ],
      "metadata": {
        "id": "HhBqOjRwLZjp",
        "outputId": "05767e96-19e6-464d-b6d3-6d81388c793d",
        "colab": {
          "base_uri": "https://localhost:8080/",
          "height": 35
        }
      },
      "execution_count": null,
      "outputs": [
        {
          "output_type": "execute_result",
          "data": {
            "text/plain": [
              "'You need Python'"
            ],
            "application/vnd.google.colaboratory.intrinsic+json": {
              "type": "string"
            }
          },
          "metadata": {},
          "execution_count": 44
        }
      ]
    },
    {
      "cell_type": "code",
      "source": [
        "a[:17]"
      ],
      "metadata": {
        "id": "LDE17JR9LZmb",
        "outputId": "002c43c7-8391-4181-8808-1284e8656b54",
        "colab": {
          "base_uri": "https://localhost:8080/",
          "height": 35
        }
      },
      "execution_count": null,
      "outputs": [
        {
          "output_type": "execute_result",
          "data": {
            "text/plain": [
              "'Life is too short'"
            ],
            "application/vnd.google.colaboratory.intrinsic+json": {
              "type": "string"
            }
          },
          "metadata": {},
          "execution_count": 45
        }
      ]
    },
    {
      "cell_type": "code",
      "source": [
        "a[:]"
      ],
      "metadata": {
        "id": "yONx4IDRLZoj",
        "outputId": "eaae85ec-37fb-4508-df22-40744d6f4b6c",
        "colab": {
          "base_uri": "https://localhost:8080/",
          "height": 35
        }
      },
      "execution_count": null,
      "outputs": [
        {
          "output_type": "execute_result",
          "data": {
            "text/plain": [
              "'Life is too short, You need Python'"
            ],
            "application/vnd.google.colaboratory.intrinsic+json": {
              "type": "string"
            }
          },
          "metadata": {},
          "execution_count": 46
        }
      ]
    },
    {
      "cell_type": "code",
      "source": [
        "# 슬라이싱으로 문자열 나누기\n",
        "a = \"20230331Rainy\"\n",
        "date = a[:8]\n",
        "weather = a[8:]\n",
        "year = a[:4]\n",
        "day = a[4:8]\n",
        "print(date)\n",
        "print(weather)\n",
        "print(year)\n",
        "print(date)"
      ],
      "metadata": {
        "id": "4AF_sxESLhrp",
        "outputId": "b7479ff7-e343-45bd-896f-abd952ac2ed8",
        "colab": {
          "base_uri": "https://localhost:8080/"
        }
      },
      "execution_count": null,
      "outputs": [
        {
          "output_type": "stream",
          "name": "stdout",
          "text": [
            "20230331\n",
            "Rainy\n",
            "2023\n",
            "20230331\n"
          ]
        }
      ]
    },
    {
      "cell_type": "code",
      "source": [
        "# 문자열 포매팅 -> 문자열 안의 특정한 값을 바꿔야 할 경우가 있을 때 이것을 가능하게 해 주는 것\n",
        "# %d는 '문자열 포맷 코드'\n",
        "\"I eat %d apples.\" %3"
      ],
      "metadata": {
        "id": "HcqXdLMDLhuQ",
        "outputId": "c376fcf9-c824-4cf5-ec70-65ea94426d03",
        "colab": {
          "base_uri": "https://localhost:8080/",
          "height": 35
        }
      },
      "execution_count": null,
      "outputs": [
        {
          "output_type": "execute_result",
          "data": {
            "text/plain": [
              "'I eat 3 apples.'"
            ],
            "application/vnd.google.colaboratory.intrinsic+json": {
              "type": "string"
            }
          },
          "metadata": {},
          "execution_count": 49
        }
      ]
    },
    {
      "cell_type": "code",
      "source": [
        "# 문자열 바로 대입\n",
        "# %s는 문자열 포맷 코드 (문자열을 대입할 때는 반드시 큰따옴표나 작은따옴표를 써야한다)\n",
        "\"I eat %s apples.\" % \"five\""
      ],
      "metadata": {
        "id": "YhLgWp1SLhwn",
        "outputId": "ed4243b7-94be-4120-d909-e589f41c5417",
        "colab": {
          "base_uri": "https://localhost:8080/",
          "height": 35
        }
      },
      "execution_count": null,
      "outputs": [
        {
          "output_type": "execute_result",
          "data": {
            "text/plain": [
              "'I eat five apples.'"
            ],
            "application/vnd.google.colaboratory.intrinsic+json": {
              "type": "string"
            }
          },
          "metadata": {},
          "execution_count": 50
        }
      ]
    },
    {
      "cell_type": "code",
      "source": [
        "# 숫자 값을 나타내는 변수로 대입\n",
        "number = 3\n",
        "\"I eat %d apples.\" % number"
      ],
      "metadata": {
        "id": "0eLvbuVzLhzP",
        "outputId": "d06e84af-6a31-46f1-f308-0dcee5336b13",
        "colab": {
          "base_uri": "https://localhost:8080/",
          "height": 35
        }
      },
      "execution_count": null,
      "outputs": [
        {
          "output_type": "execute_result",
          "data": {
            "text/plain": [
              "'I eat 3 apples.'"
            ],
            "application/vnd.google.colaboratory.intrinsic+json": {
              "type": "string"
            }
          },
          "metadata": {},
          "execution_count": 51
        }
      ]
    },
    {
      "cell_type": "code",
      "source": [
        "# 2개 이상의 값 넣기\n",
        "number = 10\n",
        "day = \"three\"\n",
        "\"I ate %d apples. so I was sick for %s days.\" % (number, day)"
      ],
      "metadata": {
        "id": "oJ2ZLoFRLh1t",
        "outputId": "d6a747ef-09e9-4c21-95ea-5f2bba2d9bd8",
        "colab": {
          "base_uri": "https://localhost:8080/",
          "height": 35
        }
      },
      "execution_count": null,
      "outputs": [
        {
          "output_type": "execute_result",
          "data": {
            "text/plain": [
              "'I ate 10 apples. so I was sick for three days.'"
            ],
            "application/vnd.google.colaboratory.intrinsic+json": {
              "type": "string"
            }
          },
          "metadata": {},
          "execution_count": 52
        }
      ]
    },
    {
      "cell_type": "code",
      "source": [
        "a=\"Error is %d%%\" %98\n",
        "print(a)"
      ],
      "metadata": {
        "id": "q9BiaGxRLh3x",
        "outputId": "0077e164-553d-4b49-f9c9-81a7362d4791",
        "colab": {
          "base_uri": "https://localhost:8080/"
        }
      },
      "execution_count": null,
      "outputs": [
        {
          "output_type": "stream",
          "name": "stdout",
          "text": [
            "Error is 98%\n"
          ]
        }
      ]
    },
    {
      "cell_type": "code",
      "source": [
        "# 정렬과 공백\n",
        "# %10s는 전체 길이가 10개(공백은 8개라는 뜻)인 문자열 공간에서 대입되는 값을 오른쪽으로 정렬\n",
        "a=\"%10s\" % \"hi\"\n",
        "b=\"%-10s\" % \"hi\"\n",
        "x=\"%-10sjane.\"%\"hi\"\n",
        "y=\"jane%10s\"%\"hi\"\n",
        "z=\"%10s.\"%\"hijane\"\n",
        "e=\"jane%10s\"%\"hi\"\n",
        "print(a)\n",
        "print(b)\n",
        "print(x)\n",
        "print(y)\n",
        "print(z)\n",
        "print(e)"
      ],
      "metadata": {
        "id": "yN734TQ-ThHI",
        "outputId": "4b0f1153-1777-4239-9c92-6dc2d8ebd4f8",
        "colab": {
          "base_uri": "https://localhost:8080/"
        }
      },
      "execution_count": 5,
      "outputs": [
        {
          "output_type": "stream",
          "name": "stdout",
          "text": [
            "        hi\n",
            "hi        \n",
            "hi        jane.\n",
            "jane        hi\n",
            "    hijane.\n",
            "jane        hi\n"
          ]
        }
      ]
    },
    {
      "cell_type": "code",
      "source": [
        "# 소수점 표현하기\n",
        "x=\"%0.4f\"%3.2134234\n",
        "y = 3.42134234\n",
        "e=\"{0:0.4f}\".format(y)\n",
        "z=\"{0:10.4f}\".format(y)\n",
        "print(x)\n",
        "print(y)\n",
        "print(e)\n",
        "print(z)"
      ],
      "metadata": {
        "id": "Wiw5ZqQDThJi",
        "colab": {
          "base_uri": "https://localhost:8080/"
        },
        "outputId": "93f5c2ab-b282-46d6-8b7d-561ad64b9788"
      },
      "execution_count": 18,
      "outputs": [
        {
          "output_type": "stream",
          "name": "stdout",
          "text": [
            "3.2134\n",
            "3.42134234\n",
            "3.4213\n",
            "    3.4213\n"
          ]
        }
      ]
    },
    {
      "cell_type": "code",
      "source": [
        "# format 함수를 사용한 포매팅\n",
        "x=\"I eat {0} apples\".format(3)\n",
        "y=\"I eat {0} apples\".format(\"five\")\n",
        "number = 3\n",
        "z=\"I eat {0} apples\".format(number)\n",
        "print(x)\n",
        "print(y)\n",
        "print(z)\n",
        "\n",
        "# 2개 이상의 값 넣기\n",
        "number = 10\n",
        "day = \"three\"\n",
        "e= \"I ate {0} apples. so I was sick for {1} days.\".format(number, day)\n",
        "# 이름으로 넣기\n",
        "r=\"I ate {number} apples. so I was sick for {day} days.\".format(number=10, day=3)\n",
        "# 인덱스와 이름을 혼용해서 넣기\n",
        "c=\"I ate {0} apples. so I was sick for {day} days.\".format(10, day=3)\n",
        "print(e)\n",
        "print(r)\n",
        "print(c)"
      ],
      "metadata": {
        "id": "l6J7cDZmThMC",
        "colab": {
          "base_uri": "https://localhost:8080/"
        },
        "outputId": "ecb54693-3e33-4288-b49b-a552b8342b41"
      },
      "execution_count": 11,
      "outputs": [
        {
          "output_type": "stream",
          "name": "stdout",
          "text": [
            "I eat 3 apples\n",
            "I eat five apples\n",
            "I eat 3 apples\n",
            "I ate 10 apples. so I was sick for three days.\n",
            "I ate 10 apples. so I was sick for 3 days.\n",
            "I ate 10 apples. so I was sick for 3 days.\n"
          ]
        }
      ]
    },
    {
      "cell_type": "code",
      "source": [
        "# 왼쪽 정렬\n",
        "\"{0:<10}\".format(\"hi\")"
      ],
      "metadata": {
        "id": "dCZu69zgThOZ",
        "colab": {
          "base_uri": "https://localhost:8080/",
          "height": 35
        },
        "outputId": "78eae4f1-e746-4fbe-e630-65d10c78c4dd"
      },
      "execution_count": 12,
      "outputs": [
        {
          "output_type": "execute_result",
          "data": {
            "text/plain": [
              "'hi        '"
            ],
            "application/vnd.google.colaboratory.intrinsic+json": {
              "type": "string"
            }
          },
          "metadata": {},
          "execution_count": 12
        }
      ]
    },
    {
      "cell_type": "code",
      "source": [
        "# 오른쪽 정렬\n",
        "\"{0:>10}\".format(\"hi\")"
      ],
      "metadata": {
        "id": "cCO_w5_9ThQl",
        "colab": {
          "base_uri": "https://localhost:8080/",
          "height": 35
        },
        "outputId": "b3c92e1c-b559-40db-d1d1-459ee0c94eae"
      },
      "execution_count": 13,
      "outputs": [
        {
          "output_type": "execute_result",
          "data": {
            "text/plain": [
              "'        hi'"
            ],
            "application/vnd.google.colaboratory.intrinsic+json": {
              "type": "string"
            }
          },
          "metadata": {},
          "execution_count": 13
        }
      ]
    },
    {
      "cell_type": "code",
      "source": [
        "# 가운데 정렬\n",
        "\"{0:^10}\".format(\"hi\")"
      ],
      "metadata": {
        "id": "JiRIV9yDThSn",
        "colab": {
          "base_uri": "https://localhost:8080/",
          "height": 35
        },
        "outputId": "227298d6-26d0-4727-d93b-59af8ebc7783"
      },
      "execution_count": 14,
      "outputs": [
        {
          "output_type": "execute_result",
          "data": {
            "text/plain": [
              "'    hi    '"
            ],
            "application/vnd.google.colaboratory.intrinsic+json": {
              "type": "string"
            }
          },
          "metadata": {},
          "execution_count": 14
        }
      ]
    },
    {
      "cell_type": "code",
      "source": [
        "# 공백 채우기\n",
        "x=\"{0:=^10}\".format(\"hi\")\n",
        "y=\"{0:!<10}\".format(\"hi\")\n",
        "print(x,y)"
      ],
      "metadata": {
        "colab": {
          "base_uri": "https://localhost:8080/"
        },
        "id": "cKZuFtCt1SQl",
        "outputId": "8c7b6df5-67fa-4ffc-918a-ced164460b2e"
      },
      "execution_count": 15,
      "outputs": [
        {
          "output_type": "stream",
          "name": "stdout",
          "text": [
            "====hi==== hi!!!!!!!!\n"
          ]
        }
      ]
    },
    {
      "cell_type": "code",
      "source": [
        "#{또는}문자 표현하기\n",
        "\"{{ and }}\".format()"
      ],
      "metadata": {
        "colab": {
          "base_uri": "https://localhost:8080/",
          "height": 35
        },
        "id": "VGNW3LX21STF",
        "outputId": "e7881892-d8a4-4b9c-9f7b-9cda6e6182a6"
      },
      "execution_count": 19,
      "outputs": [
        {
          "output_type": "execute_result",
          "data": {
            "text/plain": [
              "'{ and }'"
            ],
            "application/vnd.google.colaboratory.intrinsic+json": {
              "type": "string"
            }
          },
          "metadata": {},
          "execution_count": 19
        }
      ]
    },
    {
      "cell_type": "code",
      "source": [
        "#f문자열 포매팅\n",
        "# f 문자열 포매팅은 위와 같이 name, age와 같은 변숫값을 생성한 후에 그 값을 참조할 수 있다.\n",
        "# 또한 f 문자열 포매팅은 표현식을 지원하기 때문에 다음과 같은 것도 가능\n",
        "name = '홍길동'\n",
        "age = 30\n",
        "x=f'나의 이름은 {name}입니다. 나이는 {age}입니다.'\n",
        "print(x)"
      ],
      "metadata": {
        "colab": {
          "base_uri": "https://localhost:8080/"
        },
        "id": "at3wLdkf1SVa",
        "outputId": "669f8a6a-8f11-40c8-af9f-1a3e26e1ac6e"
      },
      "execution_count": 20,
      "outputs": [
        {
          "output_type": "stream",
          "name": "stdout",
          "text": [
            "나의 이름은 홍길동입니다. 나이는 30입니다.\n"
          ]
        }
      ]
    },
    {
      "cell_type": "code",
      "source": [
        "d = {'name':'홍길동', 'age':30}\n",
        "x=f'나의 이름은 {d[\"name\"]}입니다. 나이는 {d[\"age\"]}입니다.'\n",
        "print(x)"
      ],
      "metadata": {
        "colab": {
          "base_uri": "https://localhost:8080/"
        },
        "id": "DLlkB5Qr1SXv",
        "outputId": "51bcfa02-444a-4c98-ce45-b9e0ed3d9c35"
      },
      "execution_count": 21,
      "outputs": [
        {
          "output_type": "stream",
          "name": "stdout",
          "text": [
            "나의 이름은 홍길동입니다. 나이는 30입니다.\n"
          ]
        }
      ]
    },
    {
      "cell_type": "code",
      "source": [
        "# 정렬\n",
        "x=f'{\"hi\":<10}'  # 왼쪽 정렬\n",
        "y=f'{\"hi\":>10}'  # 오른쪽 정렬\n",
        "z=f'{\"hi\":^10}'  # 가운데 정렬\n",
        "c=f'{\"hi\":=^10}'  # 가운데 정렬하고 '=' 문자로 공백 채우기\n",
        "d=f'{\"hi\":!<10}'  # 왼쪽 정렬하고 '!' 문자로 공백 채우기\n",
        "e=3.42134234\n",
        "f=f'{e:0.4f}'  # 소수점 4자리까지만 표현\n",
        "g=f'{e:10.4f}'  # 소수점 4자리까지 표현하고 총 자리수를 10으로 맞춤\n",
        "print(x)\n",
        "print(y)\n",
        "print(z)\n",
        "print(c)\n",
        "print(d)\n",
        "print(f)\n",
        "print(g)"
      ],
      "metadata": {
        "colab": {
          "base_uri": "https://localhost:8080/"
        },
        "id": "k8JpP7HT1SZ6",
        "outputId": "9299a07a-02e2-4893-a6d1-9404a487e0ca"
      },
      "execution_count": 24,
      "outputs": [
        {
          "output_type": "stream",
          "name": "stdout",
          "text": [
            "hi        \n",
            "        hi\n",
            "    hi    \n",
            "====hi====\n",
            "hi!!!!!!!!\n",
            "3.4213\n",
            "    3.4213\n"
          ]
        }
      ]
    },
    {
      "cell_type": "code",
      "source": [
        "# 문자열 관련 함수(문자열 내장 함수)\n",
        "# count\n",
        "a = \"hobby\"\n",
        "a.count('b')"
      ],
      "metadata": {
        "colab": {
          "base_uri": "https://localhost:8080/"
        },
        "id": "MhOSe8tY-BLd",
        "outputId": "6066ffaa-e020-458e-a5b8-8035d05422a6"
      },
      "execution_count": 25,
      "outputs": [
        {
          "output_type": "execute_result",
          "data": {
            "text/plain": [
              "2"
            ]
          },
          "metadata": {},
          "execution_count": 25
        }
      ]
    },
    {
      "cell_type": "code",
      "source": [
        "# 문자열 관련 함수(문자열 내장 함수)\n",
        "# find\n",
        "# 문자열이 존재하지 않는다면 -1을 반환\n",
        "# 파이썬은 숫자를 0부터 세기 때문에 b의 위치는 15가 아닌 14\n",
        "a = \"Python is the best choice\"\n",
        "a.find('b')"
      ],
      "metadata": {
        "colab": {
          "base_uri": "https://localhost:8080/"
        },
        "id": "-kkvsxgW-BO8",
        "outputId": "b6734666-71f6-4ed5-90f4-fde919d0e94c"
      },
      "execution_count": 26,
      "outputs": [
        {
          "output_type": "execute_result",
          "data": {
            "text/plain": [
              "14"
            ]
          },
          "metadata": {},
          "execution_count": 26
        }
      ]
    },
    {
      "cell_type": "code",
      "source": [
        "# 문자열 관련 함수(문자열 내장 함수)\n",
        "# index\n",
        "a = \"Life is too short\"\n",
        "a.index('t')\n",
        "# a.index('k')\n",
        "\n"
      ],
      "metadata": {
        "colab": {
          "base_uri": "https://localhost:8080/"
        },
        "id": "S6P-q7PK-BRY",
        "outputId": "85da798d-bb47-4174-cc88-395d5904b6b3"
      },
      "execution_count": 28,
      "outputs": [
        {
          "output_type": "execute_result",
          "data": {
            "text/plain": [
              "8"
            ]
          },
          "metadata": {},
          "execution_count": 28
        }
      ]
    },
    {
      "cell_type": "code",
      "source": [
        "# 문자열 관련 함수(문자열 내장 함수)\n",
        "# join\n",
        "\",\".join('abcd')"
      ],
      "metadata": {
        "colab": {
          "base_uri": "https://localhost:8080/",
          "height": 35
        },
        "id": "H9vagmT1BFbg",
        "outputId": "1f4ea6e9-7f5c-4591-be51-bba96cfc63cd"
      },
      "execution_count": 29,
      "outputs": [
        {
          "output_type": "execute_result",
          "data": {
            "text/plain": [
              "'a,b,c,d'"
            ],
            "application/vnd.google.colaboratory.intrinsic+json": {
              "type": "string"
            }
          },
          "metadata": {},
          "execution_count": 29
        }
      ]
    },
    {
      "cell_type": "code",
      "source": [
        "# join 함수의 입력으로 리스트를 사용하는 예\n",
        "\",\".join(['a', 'b', 'c', 'd'])"
      ],
      "metadata": {
        "colab": {
          "base_uri": "https://localhost:8080/",
          "height": 35
        },
        "id": "0eeiscNwBFeC",
        "outputId": "257361d2-aaa4-47e2-b8c4-e2ff404ddbc4"
      },
      "execution_count": 30,
      "outputs": [
        {
          "output_type": "execute_result",
          "data": {
            "text/plain": [
              "'a,b,c,d'"
            ],
            "application/vnd.google.colaboratory.intrinsic+json": {
              "type": "string"
            }
          },
          "metadata": {},
          "execution_count": 30
        }
      ]
    },
    {
      "cell_type": "code",
      "source": [
        "# 문자열 관련 함수(문자열 내장 함수)\n",
        "# upper(대문자 변환)\n",
        "# lower(소문자 변환)\n",
        "a = \"hi\"\n",
        "a.upper()\n",
        "\n",
        "b = \"HI\"\n",
        "b.lower()\n"
      ],
      "metadata": {
        "colab": {
          "base_uri": "https://localhost:8080/",
          "height": 35
        },
        "id": "YrwFvzC-BFhb",
        "outputId": "d22d47ca-26a4-44cd-e513-9d2d65805f95"
      },
      "execution_count": 32,
      "outputs": [
        {
          "output_type": "execute_result",
          "data": {
            "text/plain": [
              "'HI'"
            ],
            "application/vnd.google.colaboratory.intrinsic+json": {
              "type": "string"
            }
          },
          "metadata": {},
          "execution_count": 32
        }
      ]
    },
    {
      "cell_type": "code",
      "source": [
        "# 문자열 관련 함수(문자열 내장 함수)\n",
        "# 왼쪽 공백 지우기 - lstrip\n",
        "a = \" hi \"\n",
        "a.lstrip()\n",
        "\n",
        "# 오른쪽 공백 지우기 - rstrip\n",
        "a= \" hi \"\n",
        "a.rstrip()\n",
        "\n",
        "# 문자열 바꾸기 - replace\n",
        "a = \"Life is too short\"\n",
        "a.replace(\"Life\", \"Your leg\")\n",
        "\n",
        "# 문자열 나누기 - split>>> a = \"Life is too short\"\n",
        "a.split()\n",
        "b = \"a:b:c:d\"\n",
        "b.split(':')\n",
        "\n",
        "# 문자열이 알파벳으로만 구성되어 있는지 확인하기 - isalpha\n",
        "s = \"Python\"\n",
        "s.isalpha()\n",
        "\n",
        "s = \"Python3\"\n",
        "s.isalpha()\n",
        "\n",
        "s = \"Hello World\"\n",
        "s.isalpha()\n",
        "\n",
        "# 문자열이 숫자로만 구성되어 있는지 확인하기 - isdigit\n",
        "s = \"12345\"\n",
        "s.isdigit()\n",
        "\n",
        "s = \"1234a\"\n",
        "s.isdigit()\n",
        "\n",
        "s = \"12 34\"\n",
        "s.isdigit()\n",
        "\n",
        "# 문자열이 특정 문자(열)로 시작하는지 확인하기 - startswith\n",
        "s = \"Life is too short\"\n",
        "s.startswith(\"Life\")\n",
        "s.startswith(\"short\")\n",
        "\n",
        "# 문자열이 특정 문자(열)로 끝나는지 확인하기 - endswith\n",
        "s = \"Life is too short\"\n",
        "s.endswith(\"short\")\n",
        "s.endswith(\"too\")"
      ],
      "metadata": {
        "id": "jfEYvR92BFkP"
      },
      "execution_count": null,
      "outputs": []
    },
    {
      "cell_type": "code",
      "source": [
        "# 리스트 만들들기\n",
        "# 리스트명 = [요소1, 요소2, 요소3, ...]\n",
        "a = []\n",
        "b = [1, 2, 3]\n",
        "c = ['Life', 'is', 'too', 'short']\n",
        "d = [1, 2, 'Life', 'is']\n",
        "e = [1, 2, ['Life', 'is']]"
      ],
      "metadata": {
        "id": "3EFd07CSD0Ws"
      },
      "execution_count": null,
      "outputs": []
    },
    {
      "cell_type": "code",
      "source": [
        "# 리스트의 인덱싱\n",
        "a = [1, 2, 3]\n",
        "a"
      ],
      "metadata": {
        "colab": {
          "base_uri": "https://localhost:8080/"
        },
        "id": "KyopAFGzD0ZP",
        "outputId": "7e06a591-322d-4eb4-831b-f5a117a1ace5"
      },
      "execution_count": 33,
      "outputs": [
        {
          "output_type": "execute_result",
          "data": {
            "text/plain": [
              "[1, 2, 3]"
            ]
          },
          "metadata": {},
          "execution_count": 33
        }
      ]
    },
    {
      "cell_type": "code",
      "source": [
        "a[0]"
      ],
      "metadata": {
        "colab": {
          "base_uri": "https://localhost:8080/"
        },
        "id": "jZUHzPQWD0bp",
        "outputId": "da546601-a47d-41dc-d7c2-35fbf483a1a2"
      },
      "execution_count": 34,
      "outputs": [
        {
          "output_type": "execute_result",
          "data": {
            "text/plain": [
              "1"
            ]
          },
          "metadata": {},
          "execution_count": 34
        }
      ]
    },
    {
      "cell_type": "code",
      "source": [
        "a[0] + a[2]"
      ],
      "metadata": {
        "colab": {
          "base_uri": "https://localhost:8080/"
        },
        "id": "pgjvVN-zD0eT",
        "outputId": "7051ea69-c704-4600-d098-37c397ab1201"
      },
      "execution_count": 35,
      "outputs": [
        {
          "output_type": "execute_result",
          "data": {
            "text/plain": [
              "4"
            ]
          },
          "metadata": {},
          "execution_count": 35
        }
      ]
    },
    {
      "cell_type": "code",
      "source": [
        "# a[-1]은 문자열에서와 마찬가지로 리스트 a의 마지막 요솟값\n",
        "a[-1]"
      ],
      "metadata": {
        "colab": {
          "base_uri": "https://localhost:8080/"
        },
        "id": "Vil_q4CTD0hA",
        "outputId": "d460ab0b-6321-4a13-c734-633a5fa15ba3"
      },
      "execution_count": 36,
      "outputs": [
        {
          "output_type": "execute_result",
          "data": {
            "text/plain": [
              "3"
            ]
          },
          "metadata": {},
          "execution_count": 36
        }
      ]
    },
    {
      "cell_type": "code",
      "source": [
        "# 리스트의 슬라이싱\n",
        "a = [1, 2, 3, 4, 5]\n",
        "a[0:2]"
      ],
      "metadata": {
        "colab": {
          "base_uri": "https://localhost:8080/"
        },
        "id": "jNgZNV3kD0jZ",
        "outputId": "f348f5cd-65b8-42d2-97d3-20add20c2a64"
      },
      "execution_count": 37,
      "outputs": [
        {
          "output_type": "execute_result",
          "data": {
            "text/plain": [
              "[1, 2]"
            ]
          },
          "metadata": {},
          "execution_count": 37
        }
      ]
    },
    {
      "cell_type": "code",
      "source": [
        "a = [1, 2, 3, 4, 5]\n",
        "b = a[:2]\n",
        "c = a[2:]\n",
        "b [1, 2]\n",
        "c [3, 4, 5]\n",
        "\n",
        "# b 변수는 리스트 a의 첫 번째 요소부터 두 번째 요소인 a[1]까지 나타내는 리스트이다.\n",
        "# 물론 a[2] 값인 3은 포함되지 않는다.\n",
        "# c라는 변수는 리스트 a의 세 번째 요소부터 끝까지 나타내는 리스트"
      ],
      "metadata": {
        "id": "8VuFpH0vD0mC"
      },
      "execution_count": null,
      "outputs": []
    },
    {
      "cell_type": "code",
      "source": [
        "# 리스트 연산하기\n",
        "# + (정수와 문자열은 더 할수 없다)\n",
        "a = [1, 2, 3]\n",
        "b = [4, 5, 6]\n",
        "a + b"
      ],
      "metadata": {
        "colab": {
          "base_uri": "https://localhost:8080/"
        },
        "id": "UcPIhzMkD0o1",
        "outputId": "a5c9ad79-513a-46f8-c30a-cecc26a3e1a7"
      },
      "execution_count": 38,
      "outputs": [
        {
          "output_type": "execute_result",
          "data": {
            "text/plain": [
              "[1, 2, 3, 4, 5, 6]"
            ]
          },
          "metadata": {},
          "execution_count": 38
        }
      ]
    },
    {
      "cell_type": "code",
      "source": [
        "# 리스트 연산하기\n",
        "# * (반복하기)\n",
        "a = [1, 2, 3]\n",
        "a * 3"
      ],
      "metadata": {
        "colab": {
          "base_uri": "https://localhost:8080/"
        },
        "id": "wTQ5c4GpD0rc",
        "outputId": "bc289cd4-5d94-4f8c-9e60-d73da2087118"
      },
      "execution_count": 39,
      "outputs": [
        {
          "output_type": "execute_result",
          "data": {
            "text/plain": [
              "[1, 2, 3, 1, 2, 3, 1, 2, 3]"
            ]
          },
          "metadata": {},
          "execution_count": 39
        }
      ]
    },
    {
      "cell_type": "code",
      "source": [
        "# 리스트 길이 구하기\n",
        "a = [1, 2, 3]\n",
        "len(a)"
      ],
      "metadata": {
        "colab": {
          "base_uri": "https://localhost:8080/"
        },
        "id": "OYZtSnnID0ts",
        "outputId": "3e3d81ae-0a52-40e5-cb1c-90655d8d3334"
      },
      "execution_count": 40,
      "outputs": [
        {
          "output_type": "execute_result",
          "data": {
            "text/plain": [
              "3"
            ]
          },
          "metadata": {},
          "execution_count": 40
        }
      ]
    },
    {
      "cell_type": "code",
      "source": [
        "# 리스트 수정 및 삭제\n",
        "# 수정하기\n",
        "a = [1, 2, 3]\n",
        "a[2] = 4\n",
        "a"
      ],
      "metadata": {
        "colab": {
          "base_uri": "https://localhost:8080/"
        },
        "id": "48Mi8rh1D0wZ",
        "outputId": "c195767e-a299-4670-f627-908483720a74"
      },
      "execution_count": 41,
      "outputs": [
        {
          "output_type": "execute_result",
          "data": {
            "text/plain": [
              "[1, 2, 4]"
            ]
          },
          "metadata": {},
          "execution_count": 41
        }
      ]
    },
    {
      "cell_type": "code",
      "source": [
        "# 리스트 수정 및 삭제\n",
        "# 삭제하기\n",
        "a = [1, 2, 3]\n",
        "del a[1]\n",
        "a"
      ],
      "metadata": {
        "colab": {
          "base_uri": "https://localhost:8080/"
        },
        "id": "JcCsIj0VD0zB",
        "outputId": "1d0fdd97-83f6-4705-e8e5-6e0f75473158"
      },
      "execution_count": 42,
      "outputs": [
        {
          "output_type": "execute_result",
          "data": {
            "text/plain": [
              "[1, 3]"
            ]
          },
          "metadata": {},
          "execution_count": 42
        }
      ]
    },
    {
      "cell_type": "code",
      "source": [
        "# 리스트에 요소 추가하기 - append\n",
        "a = [1, 2, 3]\n",
        "a.append(4)\n",
        "a"
      ],
      "metadata": {
        "colab": {
          "base_uri": "https://localhost:8080/"
        },
        "id": "AISAkobJPy1F",
        "outputId": "050315ff-8061-4ca0-9536-76f5e9338f27"
      },
      "execution_count": 43,
      "outputs": [
        {
          "output_type": "execute_result",
          "data": {
            "text/plain": [
              "[1, 2, 3, 4]"
            ]
          },
          "metadata": {},
          "execution_count": 43
        }
      ]
    },
    {
      "cell_type": "code",
      "source": [
        "a.append([5, 6])\n",
        "a"
      ],
      "metadata": {
        "colab": {
          "base_uri": "https://localhost:8080/"
        },
        "id": "Yc0eGr0BRAyG",
        "outputId": "ef04c849-9f32-4b52-bbbb-f11fbba4445e"
      },
      "execution_count": 44,
      "outputs": [
        {
          "output_type": "execute_result",
          "data": {
            "text/plain": [
              "[1, 2, 3, 4, [5, 6]]"
            ]
          },
          "metadata": {},
          "execution_count": 44
        }
      ]
    },
    {
      "cell_type": "code",
      "source": [
        "# 리스트 정렬 - sort\n",
        "a = [1, 4, 3, 2]\n",
        "a.sort()\n",
        "a"
      ],
      "metadata": {
        "colab": {
          "base_uri": "https://localhost:8080/"
        },
        "id": "z1eoGKoxRDqu",
        "outputId": "d9b4c7f0-4126-484a-ecd4-e895448ea156"
      },
      "execution_count": 45,
      "outputs": [
        {
          "output_type": "execute_result",
          "data": {
            "text/plain": [
              "[1, 2, 3, 4]"
            ]
          },
          "metadata": {},
          "execution_count": 45
        }
      ]
    },
    {
      "cell_type": "code",
      "source": [
        "# 리스트 뒤집기 - reverse\n",
        "a = ['a', 'c', 'b']\n",
        "a.reverse()\n",
        "a"
      ],
      "metadata": {
        "colab": {
          "base_uri": "https://localhost:8080/"
        },
        "id": "cTCKCG65RJwI",
        "outputId": "c4076446-547c-428f-b027-a62590811ece"
      },
      "execution_count": 46,
      "outputs": [
        {
          "output_type": "execute_result",
          "data": {
            "text/plain": [
              "['b', 'c', 'a']"
            ]
          },
          "metadata": {},
          "execution_count": 46
        }
      ]
    },
    {
      "cell_type": "code",
      "source": [
        "# 인덱스 반환 - index\n",
        "a = [1, 2, 3]\n",
        "a.index(3)\n",
        "a.index(1)"
      ],
      "metadata": {
        "colab": {
          "base_uri": "https://localhost:8080/"
        },
        "id": "CXshTSyIRQbS",
        "outputId": "6e53c238-fef5-4277-c0d7-5a2c005f8a50"
      },
      "execution_count": 47,
      "outputs": [
        {
          "output_type": "execute_result",
          "data": {
            "text/plain": [
              "0"
            ]
          },
          "metadata": {},
          "execution_count": 47
        }
      ]
    },
    {
      "cell_type": "code",
      "source": [
        "# 리스트에 요소 삽입 - insert\n",
        "a = [1, 2, 3]\n",
        "a.insert(0, 4)\n",
        "a.insert(3, 5)\n",
        "a"
      ],
      "metadata": {
        "colab": {
          "base_uri": "https://localhost:8080/"
        },
        "id": "b1Wao43rS9qu",
        "outputId": "16c06d66-23bc-4b0b-923f-c690577a60f2"
      },
      "execution_count": 48,
      "outputs": [
        {
          "output_type": "execute_result",
          "data": {
            "text/plain": [
              "[4, 1, 2, 5, 3]"
            ]
          },
          "metadata": {},
          "execution_count": 48
        }
      ]
    },
    {
      "cell_type": "code",
      "source": [
        "# 리스트 요소 제거 - remove\n",
        "a = [1, 2, 3, 1, 2, 3]\n",
        "a.remove(3)\n",
        "a.remove(3)\n",
        "a"
      ],
      "metadata": {
        "colab": {
          "base_uri": "https://localhost:8080/"
        },
        "id": "-mVLK3aHTDUI",
        "outputId": "e14750e9-fb92-47de-d7dc-861c042ad60e"
      },
      "execution_count": 49,
      "outputs": [
        {
          "output_type": "execute_result",
          "data": {
            "text/plain": [
              "[1, 2, 1, 2]"
            ]
          },
          "metadata": {},
          "execution_count": 49
        }
      ]
    },
    {
      "cell_type": "code",
      "source": [
        "# 리스트 요소 끄집어 내기 - pop\n",
        "# 리스트의 맨 마지막 요소를 반환하고 그 요소는 삭제\n",
        "a = [1, 2, 3]\n",
        "a.pop()\n",
        "a"
      ],
      "metadata": {
        "colab": {
          "base_uri": "https://localhost:8080/"
        },
        "id": "BiDQyJMcTKQk",
        "outputId": "ce795807-8121-4e72-c0ca-51bdce9e9e4d"
      },
      "execution_count": 50,
      "outputs": [
        {
          "output_type": "execute_result",
          "data": {
            "text/plain": [
              "[1, 2]"
            ]
          },
          "metadata": {},
          "execution_count": 50
        }
      ]
    },
    {
      "cell_type": "code",
      "source": [
        "# pop(x)는 리스트의 x번째 요소를 반환하고 그 요소는 삭제\n",
        "a = [1, 2, 3]\n",
        "a.pop(1)\n",
        "a"
      ],
      "metadata": {
        "colab": {
          "base_uri": "https://localhost:8080/"
        },
        "id": "rx8Xj9OXTV2U",
        "outputId": "4aab6f14-cc3b-424f-af07-f4d755f1afb3"
      },
      "execution_count": 51,
      "outputs": [
        {
          "output_type": "execute_result",
          "data": {
            "text/plain": [
              "[1, 3]"
            ]
          },
          "metadata": {},
          "execution_count": 51
        }
      ]
    },
    {
      "cell_type": "code",
      "source": [
        "# 리스트에 포함된 요소 x의 개수 세기 - count\n",
        "a = [1, 2, 3, 1]\n",
        "a.count(1)"
      ],
      "metadata": {
        "colab": {
          "base_uri": "https://localhost:8080/"
        },
        "id": "KEaxVnDHTahe",
        "outputId": "ca945755-931d-445e-d195-55c41ff376a0"
      },
      "execution_count": 52,
      "outputs": [
        {
          "output_type": "execute_result",
          "data": {
            "text/plain": [
              "2"
            ]
          },
          "metadata": {},
          "execution_count": 52
        }
      ]
    },
    {
      "cell_type": "code",
      "source": [
        "# 리스트 확장 - extend\n",
        "a = [1, 2, 3]\n",
        "a.extend([4, 5]) # a += [4, 5]와 동일 -> a = a + [4, 5]와 동일\n",
        "a\n",
        "b = [6, 7]\n",
        "a.extend(b)\n",
        "a"
      ],
      "metadata": {
        "colab": {
          "base_uri": "https://localhost:8080/"
        },
        "id": "YHxu_bD3ThK6",
        "outputId": "c9df97b2-c252-4262-b8ca-c1f02d06c400"
      },
      "execution_count": 53,
      "outputs": [
        {
          "output_type": "execute_result",
          "data": {
            "text/plain": [
              "[1, 2, 3, 4, 5, 6, 7]"
            ]
          },
          "metadata": {},
          "execution_count": 53
        }
      ]
    }
  ],
  "metadata": {
    "colab": {
      "provenance": [],
      "include_colab_link": true
    },
    "kernelspec": {
      "display_name": "Python 3",
      "name": "python3"
    }
  },
  "nbformat": 4,
  "nbformat_minor": 0
}